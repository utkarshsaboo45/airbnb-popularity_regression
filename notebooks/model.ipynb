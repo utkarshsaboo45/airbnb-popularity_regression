{
 "cells": [
  {
   "cell_type": "markdown",
   "id": "c0488a16-e506-4690-b493-6bce60517484",
   "metadata": {},
   "source": [
    "# New York AirBnB"
   ]
  },
  {
   "cell_type": "code",
   "execution_count": null,
   "id": "fbf6c54a-2c11-4f81-967c-8f063329edf7",
   "metadata": {},
   "outputs": [],
   "source": []
  },
  {
   "cell_type": "markdown",
   "id": "205669e6-e26d-4253-a475-c2ed50beecf3",
   "metadata": {},
   "source": [
    "__Import statements__"
   ]
  },
  {
   "cell_type": "code",
   "execution_count": null,
   "id": "2ee85346-5c20-44fd-8c90-47375df3fed0",
   "metadata": {},
   "outputs": [],
   "source": [
    "import pandas as pd\n",
    "import numpy as np\n",
    "\n",
    "from sklearn.model_selection import (\n",
    "    train_test_split\n",
    ")\n",
    "\n",
    "from sklearn.impute import SimpleImputer\n",
    "from sklearn.preprocessing import (\n",
    "    OneHotEncoder,\n",
    "    StandardScaler,\n",
    "    FunctionTransformer\n",
    ")\n",
    "from sklearn.preprocessing import PolynomialFeatures\n",
    "from sklearn.feature_extraction.text import CountVectorizer\n",
    "\n",
    "from sklearn.metrics import mean_absolute_percentage_error\n",
    "from sklearn.metrics import mean_squared_error\n",
    "from sklearn.metrics import make_scorer\n",
    "\n",
    "from sklearn.feature_selection import RFECV\n",
    "\n",
    "from sklearn.compose import make_column_transformer\n",
    "from sklearn.pipeline import make_pipeline\n",
    "\n",
    "from sklearn.dummy import DummyRegressor\n",
    "from sklearn.ensemble import RandomForestRegressor\n",
    "from sklearn.linear_model import Ridge, Lasso\n",
    "\n",
    "from catboost import CatBoostRegressor\n",
    "from lightgbm.sklearn import LGBMRegressor\n",
    "from xgboost import XGBRegressor\n",
    "\n",
    "from sklearn.model_selection import RandomizedSearchCV\n",
    "\n",
    "from sklearn.ensemble import StackingRegressor\n",
    "\n",
    "import eli5\n",
    "\n",
    "from sklearn.feature_selection import SequentialFeatureSelector"
   ]
  },
  {
   "cell_type": "code",
   "execution_count": null,
   "id": "ed4059f5-73d3-40f0-86db-9464889428ac",
   "metadata": {},
   "outputs": [],
   "source": []
  },
  {
   "cell_type": "markdown",
   "id": "dd865d1e-8a1a-4d85-bc19-733ebea167a7",
   "metadata": {},
   "source": [
    "__Importing the dataset__"
   ]
  },
  {
   "cell_type": "code",
   "execution_count": null,
   "id": "6479b460-48f9-44a2-b34a-7d0346c95649",
   "metadata": {},
   "outputs": [],
   "source": [
    "data = pd.read_csv(\"../data/raw/airbnb.csv\")"
   ]
  },
  {
   "cell_type": "code",
   "execution_count": null,
   "id": "6b23bfd5-0dcf-4a5e-9f2c-72f8cea76350",
   "metadata": {
    "tags": []
   },
   "outputs": [],
   "source": [
    "data.head()"
   ]
  },
  {
   "cell_type": "code",
   "execution_count": null,
   "id": "a8238dea-c427-4906-82ea-83be7435c678",
   "metadata": {},
   "outputs": [],
   "source": [
    "# Drop license, id, last_review\n",
    "# data.drop(columns=[\"id\", \"license\", \"last_review\"], inplace=True)"
   ]
  },
  {
   "cell_type": "code",
   "execution_count": null,
   "id": "7364063a-86af-4598-97e9-b40233243826",
   "metadata": {},
   "outputs": [],
   "source": [
    "data.info()"
   ]
  },
  {
   "cell_type": "code",
   "execution_count": null,
   "id": "143e1214-0737-476a-92bf-2129eab984c0",
   "metadata": {},
   "outputs": [],
   "source": []
  },
  {
   "cell_type": "markdown",
   "id": "1ea11ad6-573a-408b-aa03-b13e275ae866",
   "metadata": {},
   "source": [
    "__Preprocessing__"
   ]
  },
  {
   "cell_type": "code",
   "execution_count": null,
   "id": "021c586a-1c76-46a1-9987-d6efa91e9449",
   "metadata": {},
   "outputs": [],
   "source": [
    "data.dropna(subset=[\"reviews_per_month\"], inplace=True)"
   ]
  },
  {
   "cell_type": "code",
   "execution_count": null,
   "id": "a8f4209f-c5a2-4e37-94cd-8ae4240c8572",
   "metadata": {},
   "outputs": [],
   "source": [
    "data[\"last_review_year\"] = pd.DatetimeIndex(data[\"last_review\"]).year\n",
    "data[\"last_review_month\"] = pd.DatetimeIndex(data[\"last_review\"]).month\n",
    "data[\"last_review_date\"] = pd.DatetimeIndex(data[\"last_review\"]).day"
   ]
  },
  {
   "cell_type": "code",
   "execution_count": null,
   "id": "476009ce-8f37-4bca-a6c9-8ab2a088fd97",
   "metadata": {
    "tags": []
   },
   "outputs": [],
   "source": [
    "## Trial but failed\n",
    "\n",
    "# def find_no_of_listings(data):\n",
    "#     temp_df = pd.DataFrame(data[\"host_id\"].value_counts()).reset_index()\n",
    "\n",
    "#     temp_df.rename(columns={\n",
    "#         \"index\": \"host_id\",\n",
    "#         \"host_id\": \"number_of_listings\"\n",
    "#     }, inplace=True)\n",
    "\n",
    "#     data = pd.merge(data, temp_df, on=\"host_id\")\n",
    "\n",
    "#     data[\"number_of_listings\"] = pd.cut(\n",
    "#         data.number_of_listings,\n",
    "#         bins=[0, 1, 10, np.inf],\n",
    "#         labels=[\"1\", \"2-10\", \">10\"]\n",
    "#     )\n",
    "\n",
    "#     return data"
   ]
  },
  {
   "cell_type": "code",
   "execution_count": null,
   "id": "6a2c913f-9a7e-4627-93b0-23411ca5466d",
   "metadata": {},
   "outputs": [],
   "source": [
    "# # Converting the neighbourhoods occuring less than 86 times to \"Others\"\n",
    "\n",
    "# less_frequent_list = X_train[\"neighbourhood\"].value_counts()[86:].index.tolist()\n",
    "# X_train.loc[X_train.query(\n",
    "#     \"neighbourhood in @less_frequent_list\"\n",
    "# ).index, \"neighbourhood\"] = \"Others\""
   ]
  },
  {
   "cell_type": "code",
   "execution_count": null,
   "id": "5bec6b25-3ee9-4a97-94e2-3601239f785c",
   "metadata": {},
   "outputs": [],
   "source": []
  },
  {
   "cell_type": "markdown",
   "id": "cf0bb2e7-292f-467d-804f-983dc7da7bd3",
   "metadata": {},
   "source": [
    "__Splitting the data__"
   ]
  },
  {
   "cell_type": "code",
   "execution_count": null,
   "id": "2ec72316-276c-4a67-8751-1fe087c0fb74",
   "metadata": {},
   "outputs": [],
   "source": [
    "train_val_data, test_data = train_test_split(data, test_size=0.2, random_state=123)\n",
    "train_data, val_data = train_test_split(train_val_data, test_size=0.25, random_state=123)"
   ]
  },
  {
   "cell_type": "code",
   "execution_count": null,
   "id": "e68b706b-9a86-4079-82cc-9c6cfd9a8e6c",
   "metadata": {
    "tags": []
   },
   "outputs": [],
   "source": [
    "train_data.info()"
   ]
  },
  {
   "cell_type": "code",
   "execution_count": null,
   "id": "61fdadd6-2b3f-48c3-ade3-3930dd447ac4",
   "metadata": {},
   "outputs": [],
   "source": []
  },
  {
   "cell_type": "markdown",
   "id": "c2b53a11-9d55-47a4-a128-6ebdb5f9877c",
   "metadata": {},
   "source": [
    "__Feature Type Determination__"
   ]
  },
  {
   "cell_type": "code",
   "execution_count": null,
   "id": "39ea55e2-ba2f-4c64-a074-7415797a66b4",
   "metadata": {},
   "outputs": [],
   "source": [
    "numeric_features = [\n",
    "    \"latitude\",\n",
    "    \"longitude\",\n",
    "    \"price\",\n",
    "    \"minimum_nights\",\n",
    "    \"calculated_host_listings_count\",\n",
    "    \"availability_365\",\n",
    "    \"last_review_year\",\n",
    "    \"last_review_date\",\n",
    "    \"id\",\n",
    "    \"host_id\",\n",
    "    \"number_of_reviews\",\n",
    "    \"number_of_reviews_ltm\"\n",
    "]\n",
    "\n",
    "categorical_features = [\n",
    "    \"neighbourhood_group\",\n",
    "    \"room_type\",\n",
    "    \"last_review_month\"\n",
    "]\n",
    "\n",
    "text_features = [\n",
    "    \"name\"\n",
    "]\n",
    "\n",
    "drop_features = [\n",
    "    \"license\",\n",
    "    \"host_name\",\n",
    "    \"last_review\",\n",
    "    \"neighbourhood\"\n",
    "]\n",
    "\n",
    "passthrough_features = [\n",
    "\n",
    "]\n",
    "\n",
    "target_column = \"reviews_per_month\"\n",
    "\n",
    "assert (\n",
    "    len(numeric_features) +\n",
    "    len(categorical_features) +\n",
    "    len(text_features) +\n",
    "    len(drop_features) +\n",
    "    len(passthrough_features) +\n",
    "    len([target_column])\n",
    ") == len(train_data.columns)"
   ]
  },
  {
   "cell_type": "code",
   "execution_count": null,
   "id": "e7f61204-94cc-4fd7-b63e-7f469baad6fa",
   "metadata": {},
   "outputs": [],
   "source": []
  },
  {
   "cell_type": "code",
   "execution_count": null,
   "id": "d4f9dfc2-dad6-4033-95f7-595dcaf9cca2",
   "metadata": {},
   "outputs": [],
   "source": [
    "X_train, y_train = train_data.drop(columns=[target_column]), train_data[target_column]\n",
    "X_val, y_val = val_data.drop(columns=[target_column]), val_data[target_column]\n",
    "X_train_val, y_train_val = train_val_data.drop(columns=[target_column]), train_val_data[target_column]"
   ]
  },
  {
   "cell_type": "code",
   "execution_count": null,
   "id": "f7f4cbcc-ec86-4ed3-88c4-47283a522ce2",
   "metadata": {},
   "outputs": [],
   "source": [
    "X_train.info()"
   ]
  },
  {
   "cell_type": "code",
   "execution_count": null,
   "id": "5f0ea8d4-0912-448b-b6f6-eab1f8f4bed0",
   "metadata": {},
   "outputs": [],
   "source": []
  },
  {
   "cell_type": "markdown",
   "id": "643f8174-ba24-4770-a7d5-bf81d515ba3c",
   "metadata": {},
   "source": [
    "__Modelling__"
   ]
  },
  {
   "cell_type": "code",
   "execution_count": null,
   "id": "3457e58f-1934-4c3f-8ff1-45a399dceeb8",
   "metadata": {},
   "outputs": [],
   "source": [
    "function_transformer = FunctionTransformer(\n",
    "    np.reshape, kw_args={\"newshape\": -1}\n",
    ")\n",
    "\n",
    "pipe_text_feats = make_pipeline(\n",
    "    SimpleImputer(strategy=\"most_frequent\"),\n",
    "    function_transformer,\n",
    "    CountVectorizer(stop_words=\"english\", max_features=30)\n",
    ")\n",
    "\n",
    "column_transformer = make_column_transformer(\n",
    "    (StandardScaler(), numeric_features),\n",
    "    (OneHotEncoder(handle_unknown=\"ignore\", sparse=False), categorical_features),\n",
    "    (pipe_text_feats, text_features),\n",
    "    (\"drop\", drop_features),\n",
    "    (\"passthrough\", passthrough_features)\n",
    ")"
   ]
  },
  {
   "cell_type": "code",
   "execution_count": null,
   "id": "3b710190-a3d7-4fd8-80ab-752e08e47f7a",
   "metadata": {},
   "outputs": [],
   "source": [
    "column_transformer.fit(X_train)"
   ]
  },
  {
   "cell_type": "code",
   "execution_count": null,
   "id": "8e9c2c6f-7951-4f18-a807-a51b04916185",
   "metadata": {},
   "outputs": [],
   "source": [
    "new_columns = (\n",
    "    numeric_features +\n",
    "    column_transformer.named_transformers_[\"onehotencoder\"].get_feature_names_out().tolist() +\n",
    "    column_transformer.named_transformers_[\"pipeline\"].named_steps[\"countvectorizer\"].get_feature_names_out().tolist() +\n",
    "    passthrough_features\n",
    ")"
   ]
  },
  {
   "cell_type": "code",
   "execution_count": null,
   "id": "1768f651-3219-4d5f-a6b2-1a4bdbb128b5",
   "metadata": {
    "tags": []
   },
   "outputs": [],
   "source": [
    "pd.DataFrame(column_transformer.transform(X_train), columns=new_columns)"
   ]
  },
  {
   "cell_type": "code",
   "execution_count": null,
   "id": "e36bf4db-de6b-44ea-bd86-7d2a0fc0bcb4",
   "metadata": {
    "jupyter": {
     "source_hidden": true
    },
    "tags": []
   },
   "outputs": [],
   "source": [
    "# Credits to Varada K.\n",
    "\n",
    "# def mean_std_cross_val_scores(model, X_train, y_train, **kwargs):\n",
    "#     \"\"\"\n",
    "#     Returns mean and std of cross validation\n",
    "\n",
    "#     Parameters\n",
    "#     ----------\n",
    "#     model :\n",
    "#         scikit-learn model\n",
    "#     X_train : numpy array or pandas DataFrame\n",
    "#         X in the training data\n",
    "#     y_train :\n",
    "#         y in the training data\n",
    "\n",
    "#     Returns\n",
    "#     ----------\n",
    "#         pandas Series with mean scores from cross_validation\n",
    "#     \"\"\"\n",
    "\n",
    "#     scores = cross_validate(model, X_train, y_train, **kwargs)\n",
    "\n",
    "#     mean_scores = pd.DataFrame(scores).mean()\n",
    "#     std_scores = pd.DataFrame(scores).std()\n",
    "#     out_col = []\n",
    "\n",
    "#     for i in range(len(mean_scores)):\n",
    "#         out_col.append((f\"%0.3f (+/- %0.3f)\" % (mean_scores[i], std_scores[i])))\n",
    "\n",
    "#     return pd.Series(data=out_col, index=mean_scores.index)"
   ]
  },
  {
   "cell_type": "code",
   "execution_count": null,
   "id": "ccf200fe-13ee-4e93-aea7-ff8915a589a5",
   "metadata": {},
   "outputs": [],
   "source": [
    "def cross_val_scores(model, X_train, y_train, X_val, y_val, return_train_score):\n",
    "\n",
    "    model.fit(X_train, y_train)\n",
    "    y_val_pred = model.predict(X_val)\n",
    "\n",
    "    score_dict = {\n",
    "        \"r2_test\": model.score(X_val, y_val),\n",
    "        \"mse_test\": mean_squared_error(y_val, y_val_pred),\n",
    "        \"mape_test\": mean_absolute_percentage_error(y_val, y_val_pred)\n",
    "    }\n",
    "\n",
    "    if return_train_score:\n",
    "        y_train_pred = model.predict(X_train)\n",
    "\n",
    "        score_dict[\"r2_train\"] = model.score(X_train, y_train)\n",
    "        score_dict[\"mse_train\"] = mean_squared_error(y_train, y_train_pred)\n",
    "        score_dict[\"mape_train\"] = mean_absolute_percentage_error(y_train, y_train_pred)\n",
    "\n",
    "    scores_result = pd.Series(score_dict)\n",
    "\n",
    "    return model, scores_result"
   ]
  },
  {
   "cell_type": "code",
   "execution_count": null,
   "id": "c2c3d45b-c9f8-45eb-b05c-a9bdc8afdd84",
   "metadata": {},
   "outputs": [],
   "source": [
    "# Adapted from UBC Lecture Notes\n",
    "\n",
    "def mape(true, pred):\n",
    "    return 100.0 * np.mean(np.abs((pred - true) / true))"
   ]
  },
  {
   "cell_type": "code",
   "execution_count": null,
   "id": "efc058a4-5c48-45ff-abe7-9ca4d7ee9ae3",
   "metadata": {
    "tags": []
   },
   "outputs": [],
   "source": [
    "# make a scorer function that we can pass into cross-validation\n",
    "mape_scorer = make_scorer(mape, greater_is_better=False)\n",
    "\n",
    "scoring_metrics = {\n",
    "    \"neg RMSE\": \"neg_root_mean_squared_error\",\n",
    "    \"r2\": \"r2\",\n",
    "    \"mape\": mape_scorer,\n",
    "}"
   ]
  },
  {
   "cell_type": "code",
   "execution_count": null,
   "id": "3f667508-9a48-4db0-ba28-9650893948cd",
   "metadata": {},
   "outputs": [],
   "source": []
  },
  {
   "cell_type": "markdown",
   "id": "3382f8c6-6cc9-411e-97ba-133ae85e66c2",
   "metadata": {},
   "source": [
    "__Base Models__"
   ]
  },
  {
   "cell_type": "code",
   "execution_count": null,
   "id": "6c4a7527-d23a-4a2e-8b1a-b35795ea0469",
   "metadata": {},
   "outputs": [],
   "source": [
    "results = {}"
   ]
  },
  {
   "cell_type": "code",
   "execution_count": null,
   "id": "966250be-5b3d-4205-8db8-55be23af1df1",
   "metadata": {
    "tags": []
   },
   "outputs": [],
   "source": [
    "models = {\n",
    "    \"Dummy\": make_pipeline(\n",
    "        column_transformer, DummyRegressor()\n",
    "    ),\n",
    "    \"Ridge\": make_pipeline(\n",
    "        column_transformer, Ridge()\n",
    "    ),\n",
    "    \"Lasso\": make_pipeline(\n",
    "        column_transformer, Lasso()\n",
    "    ),\n",
    "    \"Random_Forest_reg\": make_pipeline(\n",
    "        column_transformer, RandomForestRegressor(random_state=123)\n",
    "    ),\n",
    "    \"XGBoost_reg\": make_pipeline(\n",
    "        column_transformer, XGBRegressor(verbosity=0)\n",
    "    ),\n",
    "    \"lgbm_reg\": make_pipeline(\n",
    "        column_transformer, LGBMRegressor()\n",
    "    ),\n",
    "    \"catBoost_reg\": make_pipeline(\n",
    "        column_transformer, CatBoostRegressor(verbose=0)\n",
    "    )\n",
    "}\n",
    "\n",
    "for model_name, model in models.items():\n",
    "    _, results[model_name] = cross_val_scores(\n",
    "        model,\n",
    "        X_train,\n",
    "        y_train,\n",
    "        X_val,\n",
    "        y_val,\n",
    "        return_train_score=True\n",
    "    )"
   ]
  },
  {
   "cell_type": "code",
   "execution_count": null,
   "id": "1ed34051-6297-4d08-be22-cceb40099aab",
   "metadata": {},
   "outputs": [],
   "source": [
    "pd.DataFrame(results)"
   ]
  },
  {
   "cell_type": "code",
   "execution_count": null,
   "id": "ecaf4b4b-673f-47fe-92ae-6904a11bc74c",
   "metadata": {},
   "outputs": [],
   "source": []
  },
  {
   "cell_type": "markdown",
   "id": "fc781db5-a7ec-4ffe-95ee-bd9204098e95",
   "metadata": {},
   "source": [
    "__Feature Selection__"
   ]
  },
  {
   "cell_type": "code",
   "execution_count": null,
   "id": "d2e779c2-3edd-440a-b354-129cf4ca3db0",
   "metadata": {},
   "outputs": [],
   "source": [
    "results_cat_boost = {}\n",
    "\n",
    "n_features_list = [30, 35, 40, 45, 50, 55]\n",
    "\n",
    "for n_features in n_features_list:\n",
    "    pipe_forward = make_pipeline(\n",
    "        column_transformer,\n",
    "        SequentialFeatureSelector(\n",
    "            Lasso(),\n",
    "            direction=\"forward\",\n",
    "            n_features_to_select=n_features\n",
    "        ),\n",
    "        CatBoostRegressor(verbose=0)\n",
    "    )\n",
    "\n",
    "    _, results_cat_boost[f\"rf_forward_fs_{n_features}\"] = cross_val_scores(\n",
    "        pipe_forward, X_train, y_train, X_val, y_val, return_train_score=True\n",
    "    )"
   ]
  },
  {
   "cell_type": "code",
   "execution_count": null,
   "id": "21d356ad-ff8e-4c4b-9764-8b3026376880",
   "metadata": {},
   "outputs": [],
   "source": [
    "pd.DataFrame(results_cat_boost)"
   ]
  },
  {
   "cell_type": "code",
   "execution_count": null,
   "id": "540d0024-aed3-4146-a365-5510e0df0200",
   "metadata": {},
   "outputs": [],
   "source": []
  },
  {
   "cell_type": "code",
   "execution_count": null,
   "id": "be1bf50b-6427-4a17-bda0-74a95d888c0f",
   "metadata": {},
   "outputs": [],
   "source": [
    "rfecv = RFECV(Ridge(), min_features_to_select=40, n_jobs=-1)\n",
    "\n",
    "pipe_catboost_rfecv = make_pipeline(\n",
    "    column_transformer, rfecv, CatBoostRegressor(random_state=42, verbose=False)\n",
    ")\n",
    "\n",
    "_, results[\"catboost_rfecv\"] = cross_val_scores(\n",
    "    pipe_catboost_rfecv, X_train, y_train, X_val, y_val, return_train_score=True\n",
    ")"
   ]
  },
  {
   "cell_type": "code",
   "execution_count": null,
   "id": "934768d3-e616-442a-9528-49e886b73edb",
   "metadata": {},
   "outputs": [],
   "source": [
    "pd.DataFrame(results)"
   ]
  },
  {
   "cell_type": "code",
   "execution_count": null,
   "id": "e7956d61-cb88-45f3-8013-d9170c6a2ff5",
   "metadata": {},
   "outputs": [],
   "source": [
    "pipe_catboost_rfecv.named_steps[\"rfecv\"].n_features_"
   ]
  },
  {
   "cell_type": "code",
   "execution_count": null,
   "id": "7b381a80-cc05-4d8f-a252-2e6d5e105f24",
   "metadata": {},
   "outputs": [],
   "source": []
  },
  {
   "cell_type": "markdown",
   "id": "31af6af1-df9b-4113-85ca-46867e213ba0",
   "metadata": {},
   "source": [
    "__Polynomial Features Regression__"
   ]
  },
  {
   "cell_type": "code",
   "execution_count": null,
   "id": "8ceffa44-3847-4c6d-8094-557c816aeba1",
   "metadata": {},
   "outputs": [],
   "source": [
    "poly_feats = PolynomialFeatures(degree=2)\n",
    "\n",
    "pipe_poly = make_pipeline(\n",
    "    column_transformer, poly_feats, Ridge()\n",
    ")\n",
    "\n",
    "_, results[\"poly_feat\"] = cross_val_scores(\n",
    "    pipe_poly,\n",
    "    X_train,\n",
    "    y_train,\n",
    "    X_val,\n",
    "    y_val,\n",
    "    return_train_score=True\n",
    ")"
   ]
  },
  {
   "cell_type": "code",
   "execution_count": null,
   "id": "100f64cf-9cc1-4c64-99db-3045e8425220",
   "metadata": {},
   "outputs": [],
   "source": []
  },
  {
   "cell_type": "markdown",
   "id": "d64ae397-e105-4ff7-8d1c-4819913ac11b",
   "metadata": {},
   "source": [
    "__Hyperparameter Tuning__"
   ]
  },
  {
   "cell_type": "markdown",
   "id": "27a20d99-1254-4019-9b90-2e7841a33f67",
   "metadata": {},
   "source": [
    "_Ridge_"
   ]
  },
  {
   "cell_type": "code",
   "execution_count": null,
   "id": "de2d946c-69c2-4d9b-8f1a-6ac31b88dd83",
   "metadata": {},
   "outputs": [],
   "source": [
    "params = {'ridge__alpha': 10.0 ** np.arange(-2, 6, 1)}"
   ]
  },
  {
   "cell_type": "code",
   "execution_count": null,
   "id": "b94e0aa0-d1ef-4838-a1b2-42152674c3b3",
   "metadata": {},
   "outputs": [],
   "source": [
    "pipe_ridge = make_pipeline(column_transformer, Ridge())\n",
    "\n",
    "random_search = RandomizedSearchCV(\n",
    "    pipe_ridge,\n",
    "    params,\n",
    "    n_jobs=-1,\n",
    "    return_train_score=True,\n",
    "    scoring=scoring_metrics,\n",
    "    refit=\"r2\"\n",
    ")"
   ]
  },
  {
   "cell_type": "code",
   "execution_count": null,
   "id": "e1f8785e-96bf-4829-9c9f-bd62e120a7ce",
   "metadata": {},
   "outputs": [],
   "source": [
    "random_search.fit(X_train_val, y_train_val)"
   ]
  },
  {
   "cell_type": "code",
   "execution_count": null,
   "id": "b07f0e0e-addc-47b2-9dc6-c39ed378a772",
   "metadata": {},
   "outputs": [],
   "source": [
    "pd.DataFrame(random_search.cv_results_)[[\n",
    "        \"mean_fit_time\",\n",
    "        \"mean_score_time\",\n",
    "        \"param_ridge__alpha\",\n",
    "        \"mean_train_neg RMSE\",\n",
    "        \"std_train_neg RMSE\",\n",
    "        \"mean_test_mape\",\n",
    "        \"mean_train_mape\",\n",
    "        \"mean_test_r2\",\n",
    "        \"mean_train_r2\"\n",
    "    ]\n",
    "].sort_values(by='mean_test_r2', ascending=False)"
   ]
  },
  {
   "cell_type": "code",
   "execution_count": null,
   "id": "0f8c9815-a851-4744-aabc-73f69f932961",
   "metadata": {},
   "outputs": [],
   "source": []
  },
  {
   "cell_type": "code",
   "execution_count": null,
   "id": "95ea2ef0-c514-481c-a71b-f4778c5d00c1",
   "metadata": {},
   "outputs": [],
   "source": [
    "pipe_ridge_final = make_pipeline(\n",
    "    column_transformer,\n",
    "    Ridge(alpha=1000)\n",
    ")\n",
    "\n",
    "pipe_ridge_final.fit(X_train_val, y_train_val)\n",
    "\n",
    "eli5.explain_weights(pipe_ridge_final.named_steps[\"ridge\"], feature_names=new_columns)"
   ]
  },
  {
   "cell_type": "code",
   "execution_count": null,
   "id": "b620e2d4-6470-4bd3-818a-f2f1ebb50ef3",
   "metadata": {},
   "outputs": [],
   "source": [
    "data = {\n",
    "    \"Importance\": pipe_ridge_final.named_steps[\"ridge\"].coef_,\n",
    "}\n",
    "pd.DataFrame(data=data, index=new_columns,).sort_values(\n",
    "    by=\"Importance\", ascending=False\n",
    ")[:10]"
   ]
  },
  {
   "cell_type": "code",
   "execution_count": null,
   "id": "ecfd2fb0-3929-4932-b52c-f66eba046069",
   "metadata": {},
   "outputs": [],
   "source": []
  },
  {
   "cell_type": "markdown",
   "id": "608e3bc7-336e-4fd9-b8a2-dc968731434c",
   "metadata": {},
   "source": [
    "_LGBM_"
   ]
  },
  {
   "cell_type": "code",
   "execution_count": null,
   "id": "cc838155-1f72-40c8-9bf1-25a52e64be54",
   "metadata": {},
   "outputs": [],
   "source": [
    "params = {\n",
    "    'lgbmregressor__n_estimators': [10, 100, 1000],\n",
    "    'lgbmregressor__max_depth': [5, 10, 15]\n",
    "}"
   ]
  },
  {
   "cell_type": "code",
   "execution_count": null,
   "id": "62cc1498-c8f1-436d-8434-e1524b27c9f2",
   "metadata": {},
   "outputs": [],
   "source": [
    "pipe_lgbm = make_pipeline(column_transformer, LGBMRegressor())\n",
    "\n",
    "random_search = RandomizedSearchCV(\n",
    "    pipe_lgbm,\n",
    "    params,\n",
    "    n_jobs=-1,\n",
    "    return_train_score=True,\n",
    "    scoring=scoring_metrics,\n",
    "    refit=\"r2\"\n",
    ")"
   ]
  },
  {
   "cell_type": "code",
   "execution_count": null,
   "id": "c6545c70-b24a-42f2-a21e-56ddc10aaba1",
   "metadata": {},
   "outputs": [],
   "source": [
    "random_search.fit(X_train_val, y_train_val)"
   ]
  },
  {
   "cell_type": "code",
   "execution_count": null,
   "id": "390f787c-e723-4d17-a163-d4d6ca7bb1e3",
   "metadata": {},
   "outputs": [],
   "source": [
    "pd.DataFrame(random_search.cv_results_)[[\n",
    "        \"mean_fit_time\", \n",
    "        \"mean_score_time\", \n",
    "        \"param_lgbmregressor__n_estimators\", \n",
    "        \"param_lgbmregressor__max_depth\",\n",
    "        \"mean_train_neg RMSE\", \n",
    "        \"std_train_neg RMSE\",\n",
    "        \"mean_test_mape\",\n",
    "        \"mean_train_mape\",\n",
    "        \"mean_test_r2\",\n",
    "        \"mean_train_r2\"\n",
    "    ]\n",
    "].sort_values(by='mean_test_r2', ascending=False)"
   ]
  },
  {
   "cell_type": "code",
   "execution_count": null,
   "id": "69c44cc9-9305-4174-957d-b6240a90c135",
   "metadata": {},
   "outputs": [],
   "source": []
  },
  {
   "cell_type": "code",
   "execution_count": null,
   "id": "c93dcf7d-344a-4040-b768-bccb9bdc2d7d",
   "metadata": {},
   "outputs": [],
   "source": []
  },
  {
   "cell_type": "markdown",
   "id": "e85e0286-b88d-4021-95b2-0fc6b2ca7020",
   "metadata": {},
   "source": [
    "_CatBoost_"
   ]
  },
  {
   "cell_type": "code",
   "execution_count": null,
   "id": "f887761c-3195-4e86-868e-c53ec7eb26a2",
   "metadata": {},
   "outputs": [],
   "source": [
    "params = {\n",
    "    \"catboostregressor__iterations\": [100, 150, 200],\n",
    "    \"catboostregressor__learning_rate\": [0.03, 0.1],\n",
    "    \"catboostregressor__depth\": [2, 4, 6, 8],\n",
    "    \"catboostregressor__l2_leaf_reg\": [0.2, 0.5, 1, 3]\n",
    "}"
   ]
  },
  {
   "cell_type": "code",
   "execution_count": null,
   "id": "0bc2ec2c-8d6f-4fca-baa8-94090456f459",
   "metadata": {},
   "outputs": [],
   "source": [
    "pipe_catboost = make_pipeline(column_transformer, CatBoostRegressor(verbose=False))\n",
    "\n",
    "random_search = RandomizedSearchCV(\n",
    "    pipe_catboost,\n",
    "    params,\n",
    "    n_jobs=-1,\n",
    "    n_iter=30,\n",
    "    return_train_score=True,\n",
    "    scoring=scoring_metrics,\n",
    "    refit=\"r2\"\n",
    ")"
   ]
  },
  {
   "cell_type": "code",
   "execution_count": null,
   "id": "543791aa-c5b2-4687-b446-215b51b72924",
   "metadata": {},
   "outputs": [],
   "source": [
    "random_search.fit(X_train_val, y_train_val)"
   ]
  },
  {
   "cell_type": "code",
   "execution_count": null,
   "id": "f6145f8a-b78f-49bc-b727-8194b9044567",
   "metadata": {},
   "outputs": [],
   "source": [
    "pd.DataFrame(random_search.cv_results_)[\n",
    "    [\n",
    "        \"mean_fit_time\",\n",
    "        \"mean_score_time\",\n",
    "        \"param_catboostregressor__iterations\",\n",
    "        \"param_catboostregressor__learning_rate\",\n",
    "        \"param_catboostregressor__depth\",\n",
    "        \"param_catboostregressor__l2_leaf_reg\",\n",
    "        \"mean_train_neg RMSE\",\n",
    "        \"std_train_neg RMSE\",\n",
    "        \"mean_test_mape\",\n",
    "        \"mean_train_mape\",\n",
    "        \"mean_test_r2\",\n",
    "        \"mean_train_r2\"\n",
    "    ]\n",
    "].sort_values(by=\"mean_test_r2\", ascending=False).T"
   ]
  },
  {
   "cell_type": "markdown",
   "id": "05fd03ab-90ed-4c3b-b47d-740f4fba4568",
   "metadata": {},
   "source": [
    "__Stacking__"
   ]
  },
  {
   "cell_type": "code",
   "execution_count": null,
   "id": "a42b35d0-fcd7-4259-868e-1fd46899de5a",
   "metadata": {},
   "outputs": [],
   "source": [
    "models_selected = {\n",
    "    \"Ridge\": make_pipeline(\n",
    "        column_transformer, PolynomialFeatures(degree=2), Ridge()\n",
    "    ),\n",
    "    \"Random_Forest_reg\": make_pipeline(\n",
    "        column_transformer, RandomForestRegressor()\n",
    "    ),\n",
    "    \"lgbm_reg\": make_pipeline(\n",
    "        column_transformer, LGBMRegressor()\n",
    "    ),\n",
    "    \"catBoost_reg\": make_pipeline(\n",
    "        column_transformer, CatBoostRegressor(verbose=0)\n",
    "    )\n",
    "}"
   ]
  },
  {
   "cell_type": "code",
   "execution_count": null,
   "id": "02fa8984-441a-4902-9325-8cb4724bf744",
   "metadata": {},
   "outputs": [],
   "source": [
    "stacking_model = StackingRegressor(list(models_selected.items()))"
   ]
  },
  {
   "cell_type": "code",
   "execution_count": null,
   "id": "15d99e50-e8b9-496f-a5ac-c4b70ce50e3c",
   "metadata": {},
   "outputs": [],
   "source": [
    "stacking_model, results[\"Stacking\"] = cross_val_scores(\n",
    "    stacking_model,\n",
    "    X_train,\n",
    "    y_train,\n",
    "    X_val,\n",
    "    y_val,\n",
    "    return_train_score=True\n",
    ")"
   ]
  },
  {
   "cell_type": "code",
   "execution_count": null,
   "id": "d450fa66-ec88-4f9c-b207-9997b22d9812",
   "metadata": {},
   "outputs": [],
   "source": [
    "pd.DataFrame(results)"
   ]
  },
  {
   "cell_type": "markdown",
   "id": "ba62d637-fdb1-4502-a050-8a9df39d9316",
   "metadata": {},
   "source": [
    "__Testing on Test Set__"
   ]
  },
  {
   "cell_type": "code",
   "execution_count": null,
   "id": "65ceadbf-1ab8-4c83-ade8-832edc4768b8",
   "metadata": {},
   "outputs": [],
   "source": []
  }
 ],
 "metadata": {
  "kernelspec": {
   "display_name": "Python [conda env:env_airbnb]",
   "language": "python",
   "name": "conda-env-env_airbnb-py"
  },
  "language_info": {
   "codemirror_mode": {
    "name": "ipython",
    "version": 3
   },
   "file_extension": ".py",
   "mimetype": "text/x-python",
   "name": "python",
   "nbconvert_exporter": "python",
   "pygments_lexer": "ipython3",
   "version": "3.8.12"
  }
 },
 "nbformat": 4,
 "nbformat_minor": 5
}
